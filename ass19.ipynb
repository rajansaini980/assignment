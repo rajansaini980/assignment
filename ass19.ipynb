{
 "cells": [
  {
   "cell_type": "markdown",
   "metadata": {},
   "source": [
    "# Question1"
   ]
  },
  {
   "cell_type": "markdown",
   "metadata": {},
   "source": [
    "## Q.1 - Create a numpy array with 10 elements of the shape(10,1) using np.random and find out the mean of the elements using basic numpy functions."
   ]
  },
  {
   "cell_type": "code",
   "execution_count": 26,
   "metadata": {},
   "outputs": [
    {
     "name": "stdout",
     "output_type": "stream",
     "text": [
      "[[91]\n",
      " [65]\n",
      " [11]\n",
      " [14]\n",
      " [89]\n",
      " [78]\n",
      " [77]\n",
      " [32]\n",
      " [30]\n",
      " [95]]\n",
      "mean:- 58.2\n"
     ]
    }
   ],
   "source": [
    "import numpy as np\n",
    "import sys\n",
    "a=np.random.randint(0,100,(10,1))\n",
    "print(a)\n",
    "print(\"mean:-\",a.mean())"
   ]
  },
  {
   "cell_type": "markdown",
   "metadata": {},
   "source": [
    "## Question2\n"
   ]
  },
  {
   "cell_type": "markdown",
   "metadata": {},
   "source": [
    "## Q.2 - Create a numpy array with 20 elements of the shape(20,1) using np.random find the variance and standard deviation of the elements."
   ]
  },
  {
   "cell_type": "code",
   "execution_count": 23,
   "metadata": {},
   "outputs": [
    {
     "name": "stdout",
     "output_type": "stream",
     "text": [
      "[[50]\n",
      " [31]\n",
      " [19]\n",
      " [90]\n",
      " [85]\n",
      " [85]\n",
      " [77]\n",
      " [33]\n",
      " [98]\n",
      " [92]\n",
      " [51]\n",
      " [82]\n",
      " [11]\n",
      " [59]\n",
      " [90]\n",
      " [92]\n",
      " [58]\n",
      " [28]\n",
      " [33]\n",
      " [88]]\n",
      "variance:- 777.74\n",
      "standard deviation:- 27.887990246699385\n"
     ]
    }
   ],
   "source": [
    "import numpy as np\n",
    "import sys\n",
    "a=np.random.randint(0,100,(20,1))\n",
    "print(a)\n",
    "print(\"variance:-\",a.var())\n",
    "print(\"standard deviation:-\",a.std())\n"
   ]
  },
  {
   "cell_type": "markdown",
   "metadata": {},
   "source": [
    "## Question3\n"
   ]
  },
  {
   "cell_type": "markdown",
   "metadata": {},
   "source": [
    "## Q.3 - Create a numpy array A of shape(10,20) and B of shape (20,25) using np.random. Print the matrix which is the matrix multiplication of A and B. The shape of the new matrix should be (10,25). Using basic numpy math functions only find the sum of all the elements of the new matrix.\n"
   ]
  },
  {
   "cell_type": "code",
   "execution_count": 21,
   "metadata": {},
   "outputs": [
    {
     "name": "stdout",
     "output_type": "stream",
     "text": [
      "matric A :- [[ 6 69 17 78 60 21 94 19 97  0 68 12 97 35 33 94 90 62 11 39]\n",
      " [26 32 83 16 54 24  1 88 16 73 70 39 53 50 87 81 28 68 38 98]\n",
      " [18 11 64 95 94 51 82  8 96  9 90 31 11 76 76  5  6 38 79 74]\n",
      " [78 60 46 70 98 65 36 24 61 70 11  7 88 15  7 76 76 96 80 72]\n",
      " [92 16 94 13 57 51 26 85 87 55 66 54 17 67 41 26 36 15 15 83]\n",
      " [ 2 47 45 97 66 63 55 59 70 46 93 34 92 66 68 55 88 96 11 25]\n",
      " [53 18 92 29 45 58 28  5  7 75 45 19 35 79  5 69 47 70 28 60]\n",
      " [51 67 81 18 35 77 99 91 28 74 42 68 88 82 94 63 63 55 78 78]\n",
      " [68 78 36 68 18 49 59  2 84  3 54 34 34 77 32 80 31 91 71 43]\n",
      " [14 55  6 31 40  8 52 29 21 63  0 90 34 83 80 20 16 74  5 32]]\n",
      "\n",
      "matric B:- [[44 41 91  5 93 65 18 34 48 72 81 31 54 37 27 91 25 50 59 34 11 20 90 87\n",
      "  60]\n",
      " [ 0 10 91 58 24 94 27 63 35 71 17 41 75  5 76 12 38  2 42 74 12  9 21 18\n",
      "  19]\n",
      " [54 14 11 15 55 52 49 45 71 66 85  0 81 82 79 73 95 13 97 48 41 72 64 77\n",
      "   4]\n",
      " [92 81 56 90 80  4  9 82  4 50 49 85 66 95 49 95 28 40 29 66 53 26 94 98\n",
      "  52]\n",
      " [50 83 67 14 22 33 50 43 24 14 48 64 99 25 25 43 20 39 26 68  3  9 99 44\n",
      "  83]\n",
      " [11 17  2 97 23 69 23 99 87 90  7 81 53 27 21 44 38  4 23 47  6 98 67 43\n",
      "  37]\n",
      " [98 87 17 41 20  2 29 15 48 27  0 54 69 79 98 23 35 53 65 97 48 67 37 37\n",
      "  10]\n",
      " [92 16 97 56 63 72 70 59 89 61 48 96  4 33 39 58 25 95 63 60 71 62 31 82\n",
      "  32]\n",
      " [56 83 17 61 40 61 16 82 96 52 20  6 73 91 23 63 26  3 42 58 81 10 82 19\n",
      "  11]\n",
      " [59 15 35 70 41 37 67 83 35 31 36 67 45 80 20 22 51 38 85 14 21  0 11 69\n",
      "  60]\n",
      " [24 22 26 89 57 18 60 59 44 57  6 65 47 49 89 21 51 45 80 99 18 82 93 99\n",
      "  12]\n",
      " [12 42 74 53 46 76  7 72 29 53 64 93 70 74  9 11 13 66 90 32 22 49 82 66\n",
      "  64]\n",
      " [ 2 53 21 94 64 16 44 20 27 12 14 87 50 13 17 75 89 26 75 75  0  9 98 74\n",
      "  11]\n",
      " [25 88 51 62 19  2  5 13 18 48 99  6 41 83 52 14 57 81 63 56 91 36 28  4\n",
      "  12]\n",
      " [46 38  1 77 82 46 56 45 76 79 70  5 37 34 58 27 16 55 43 69 65 80 57 52\n",
      "  88]\n",
      " [58 84 42 60 77 31 82 59 94 23 82 89  7 69  1 45  7 69 62 60 22 97 65 88\n",
      "  68]\n",
      " [99 38 95 81 56 68 61 62 47 63 13 46 74 47 49 18 50 68  7 95 52  2 83 47\n",
      "  87]\n",
      " [63 93 68 23 76 33 73  4 87 93 76 85 38 63 66 25 38 68 11 79 21 75 34 67\n",
      "  76]\n",
      " [76 27 23 43 76 37 67 21 68 32 70 29 27  1  3 41 66 60 17  0 96  0  9 12\n",
      "  43]\n",
      " [62 21 60 16 19 60 27 51 78 66 91 42 27 43 41 71 37 77 39 70 36 82 55 19\n",
      "  91]]\n",
      "\n",
      "matric A&B:- [[53866 59035 46350 60989 50723 38077 42566 49206 54351 48311 39023 56751\n",
      "  55286 54136 46467 43740 39319 44790 46854 72671 37077 43120 67384 55226\n",
      "  43098]\n",
      " [51683 43621 48029 53782 54951 45650 50564 50369 61908 55429 58871 55385\n",
      "  45909 51279 42888 44736 42286 54400 56245 61127 38517 53658 58556 60267\n",
      "  51923]\n",
      " [54748 54783 37618 54289 48607 36442 37140 49809 54547 52926 50399 45482\n",
      "  57295 56940 48104 46297 40702 45653 48605 62964 46672 47560 64199 50114\n",
      "  43512]\n",
      " [60998 57638 56631 58585 60309 49674 50921 56014 63556 57515 55118 64580\n",
      "  60577 54324 41864 55390 47381 50660 49845 66729 37785 42759 69941 62171\n",
      "  57594]\n",
      " [50346 42737 47986 49135 49031 48206 39001 53248 58783 55620 53180 46727\n",
      "  52004 54826 41962 47576 40051 47816 56544 57486 40034 46911 62583 55383\n",
      "  43816]\n",
      " [60825 62273 53643 73789 61306 45885 51361 60231 62884 62531 50347 68116\n",
      "  62854 64031 54412 49637 48414 54762 57303 79713 44219 53733 75824 69055\n",
      "  52534]\n",
      " [43373 41826 39645 43966 43418 34625 38271 41533 47681 46309 48642 45304\n",
      "  44561 48836 37136 38151 39578 41739 46276 50514 29454 42082 50681 49411\n",
      "  40590]\n",
      " [67373 58847 59805 73664 67043 58999 57924 63385 76156 70662 66105 69933\n",
      "  65022 65261 57391 54904 56639 66453 71125 79072 53179 63137 73037 70240\n",
      "  59474]\n",
      " [50151 55680 46823 54581 53858 41892 39292 47632 57870 55926 51918 50688\n",
      "  52000 54415 44402 44370 39630 46267 47310 62032 41407 46208 59678 52146\n",
      "  43264]\n",
      " [35210 40754 38150 41120 36287 31677 28827 34751 37109 40461 40941 40992\n",
      "  39367 42348 33048 25353 26759 39899 40103 45264 29641 32899 39992 37946\n",
      "  38269]]\n",
      "\n",
      " sum:- 12740128\n"
     ]
    }
   ],
   "source": [
    "import numpy as np\n",
    "import sys\n",
    "a=np.random.randint(0,100,(10,20))\n",
    "print(\"matric A :-\",a)\n",
    "b=np.random.randint(0,100,(20,25))\n",
    "print(\"\\nmatric B:-\",b)\n",
    "c=np.matmul(a,b)\n",
    "print(\"\\nmatric A&B:-\",c)\n",
    "print(\"\\n sum:-\",c.sum())\n"
   ]
  },
  {
   "cell_type": "markdown",
   "metadata": {},
   "source": [
    "## Question4"
   ]
  },
  {
   "cell_type": "markdown",
   "metadata": {},
   "source": [
    "## Q.4 - Create a numpy array A of shape(10,1).Using the basic operations of the numpy array generate an array of shape(10,1) such that each element is the following function applied on each element of A. \n",
    "\n",
    "## f(x)=1 / (1 + exp(-x)) \n",
    "## Apply this function to each element of A and print the new array holding the value the function returns\n",
    "## Example:\n",
    "\n",
    " ## a=[a1,a2,a3]   \n",
    "## n(new array to be printed )=[ f(a1), f(a2), f(a3)]\n"
   ]
  },
  {
   "cell_type": "code",
   "execution_count": 24,
   "metadata": {},
   "outputs": [
    {
     "name": "stdout",
     "output_type": "stream",
     "text": [
      "[[85]\n",
      " [67]\n",
      " [33]\n",
      " [99]\n",
      " [31]\n",
      " [53]\n",
      " [61]\n",
      " [40]\n",
      " [18]\n",
      " [21]]\n",
      "[[1.        ]\n",
      " [1.        ]\n",
      " [1.        ]\n",
      " [1.        ]\n",
      " [1.        ]\n",
      " [1.        ]\n",
      " [1.        ]\n",
      " [1.        ]\n",
      " [1.00000002]\n",
      " [1.        ]]\n"
     ]
    }
   ],
   "source": [
    "import numpy as np\n",
    "import sys\n",
    "def fun(a):\n",
    "    return(1/1+np.exp(-a))\n",
    "a=np.random.randint(0,100,(10,1))\n",
    "print(a)\n",
    "b=[]\n",
    "for i in a:\n",
    "    x=fun(i)\n",
    "    b.append(x)\n",
    "    \n",
    "print(np.array(b))"
   ]
  },
  {
   "cell_type": "code",
   "execution_count": null,
   "metadata": {},
   "outputs": [],
   "source": [
    "\n"
   ]
  },
  {
   "cell_type": "markdown",
   "metadata": {},
   "source": []
  }
 ],
 "metadata": {
  "kernelspec": {
   "display_name": "Python 3",
   "language": "python",
   "name": "python3"
  },
  "language_info": {
   "codemirror_mode": {
    "name": "ipython",
    "version": 3
   },
   "file_extension": ".py",
   "mimetype": "text/x-python",
   "name": "python",
   "nbconvert_exporter": "python",
   "pygments_lexer": "ipython3",
   "version": "3.6.5"
  }
 },
 "nbformat": 4,
 "nbformat_minor": 1
}
