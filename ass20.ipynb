{
 "cells": [
  {
   "cell_type": "markdown",
   "metadata": {},
   "source": [
    "## Question 1"
   ]
  },
  {
   "cell_type": "markdown",
   "metadata": {},
   "source": [
    "## Q.1 - Create a dataframe with your name , age , mail id and phone number and add your friends’s information to the same."
   ]
  },
  {
   "cell_type": "code",
   "execution_count": 6,
   "metadata": {},
   "outputs": [
    {
     "name": "stdout",
     "output_type": "stream",
     "text": [
      "(('def', 102),)\n",
      "     Name  Age    Phone          Email id\n",
      "0   sahil   20  1545454   sahil@gmail.com\n",
      "1  poonam   19  4545454  poonam@gmail.com\n",
      "2  diksha   18  4541512  diksha@gmail.com\n",
      "3    amit   16    45445    amit@gmail.com\n",
      "4   mohit   17   454545   mohit@gmail.com\n"
     ]
    }
   ],
   "source": [
    "import pandas as p\n",
    "\n",
    "details={\"Name\":['sahil','poonam','diksha','amit' ,'mohit'],\n",
    "         \"Age\":[20,19,18,16,17],\n",
    "         \"Phone\":[1545454,4545454,4541512,45445,454545],\n",
    "         \"Email id\":['sahil@gmail.com','poonam@gmail.com','diksha@gmail.com','amit@gmail.com','mohit@gmail.com']\n",
    "        }  \n",
    "\n",
    "df=p.DataFrame(details)\n",
    "print(df)\n"
   ]
  },
  {
   "cell_type": "markdown",
   "metadata": {},
   "source": [
    "##  Q.2 - Download the dataset from this link , \n",
    "## Click Here\n",
    "## Import the data and print the following :\n",
    "## a.) First 5 rows of Dataframe \n",
    "## b.) First 10 rows of the Dataframe \n",
    "## c.) find basic statistics on the particular dataset. \n",
    "## d.) Find the last 5 rows of the dataframe \n",
    "## e.) Extract the 2nd column and find basic statistics on it."
   ]
  },
  {
   "cell_type": "code",
   "execution_count": 2,
   "metadata": {},
   "outputs": [
    {
     "name": "stdout",
     "output_type": "stream",
     "text": [
      " First 5 rows of Dataframe         Date  Location  MinTemp  MaxTemp  Rainfall  Evaporation  Sunshine  \\\n0  11/1/2007  Canberra      8.0     24.3       0.0          3.4       6.3   \n1  11/2/2007  Canberra     14.0     26.9       3.6          4.4       9.7   \n2  11/3/2007  Canberra     13.7     23.4       3.6          5.8       3.3   \n3  11/4/2007  Canberra     13.3     15.5      39.8          7.2       9.1   \n4  11/5/2007  Canberra      7.6     16.1       2.8          5.6      10.6   \n\n  WindGustDir  WindGustSpeed WindDir9am      ...      Humidity3pm  \\\n0          NW           30.0         SW      ...               29   \n1         ENE           39.0          E      ...               36   \n2          NW           85.0          N      ...               69   \n3          NW           54.0        WNW      ...               56   \n4         SSE           50.0        SSE      ...               49   \n\n   Pressure9am  Pressure3pm  Cloud9am  Cloud3pm  Temp9am  Temp3pm  RainToday  \\\n0       1019.7       1015.0         7         7     14.4     23.6         No   \n1       1012.4       1008.4         5         3     17.5     25.7        Yes   \n2       1009.5       1007.2         8         7     15.4     20.2        Yes   \n3       1005.5       1007.0         2         7     13.5     14.1        Yes   \n4       1018.3       1018.5         7         7     11.1     15.4        Yes   \n\n   RISK_MM  RainTomorrow  \n0      3.6           Yes  \n1      3.6           Yes  \n2     39.8           Yes  \n3      2.8           Yes  \n4      0.0            No  \n\n[5 rows x 24 columns]\nFirst 10 rows of the Dataframe          Date  Location  MinTemp  MaxTemp  Rainfall  Evaporation  Sunshine  \\\n0   11/1/2007  Canberra      8.0     24.3       0.0          3.4       6.3   \n1   11/2/2007  Canberra     14.0     26.9       3.6          4.4       9.7   \n2   11/3/2007  Canberra     13.7     23.4       3.6          5.8       3.3   \n3   11/4/2007  Canberra     13.3     15.5      39.8          7.2       9.1   \n4   11/5/2007  Canberra      7.6     16.1       2.8          5.6      10.6   \n5   11/6/2007  Canberra      6.2     16.9       0.0          5.8       8.2   \n6   11/7/2007  Canberra      6.1     18.2       0.2          4.2       8.4   \n7   11/8/2007  Canberra      8.3     17.0       0.0          5.6       4.6   \n8   11/9/2007  Canberra      8.8     19.5       0.0          4.0       4.1   \n9  11/10/2007  Canberra      8.4     22.8      16.2          5.4       7.7   \n\n  WindGustDir  WindGustSpeed WindDir9am      ...      Humidity3pm  \\\n0          NW           30.0         SW      ...               29   \n1         ENE           39.0          E      ...               36   \n2          NW           85.0          N      ...               69   \n3          NW           54.0        WNW      ...               56   \n4         SSE           50.0        SSE      ...               49   \n5          SE           44.0         SE      ...               57   \n6          SE           43.0         SE      ...               47   \n7           E           41.0         SE      ...               57   \n8           S           48.0          E      ...               48   \n9           E           31.0          S      ...               32   \n\n   Pressure9am  Pressure3pm  Cloud9am  Cloud3pm  Temp9am  Temp3pm  RainToday  \\\n0       1019.7       1015.0         7         7     14.4     23.6         No   \n1       1012.4       1008.4         5         3     17.5     25.7        Yes   \n2       1009.5       1007.2         8         7     15.4     20.2        Yes   \n3       1005.5       1007.0         2         7     13.5     14.1        Yes   \n4       1018.3       1018.5         7         7     11.1     15.4        Yes   \n5       1023.8       1021.7         7         5     10.9     14.8         No   \n6       1024.6       1022.2         4         6     12.4     17.3         No   \n7       1026.2       1024.2         6         7     12.1     15.5         No   \n8       1026.1       1022.7         7         7     14.1     18.9         No   \n9       1024.1       1020.7         7         1     13.3     21.7        Yes   \n\n   RISK_MM  RainTomorrow  \n0      3.6           Yes  \n1      3.6           Yes  \n2     39.8           Yes  \n3      2.8           Yes  \n4      0.0            No  \n5      0.2            No  \n6      0.0            No  \n7      0.0            No  \n8     16.2           Yes  \n9      0.0            No  \n\n[10 rows x 24 columns]\nLast 5 rowa of the dataframe            Date  Location  MinTemp  MaxTemp  Rainfall  Evaporation  Sunshine  \\\n361  10/27/2008  Canberra      9.0     30.7       0.0          7.6      12.1   \n362  10/28/2008  Canberra      7.1     28.4       0.0         11.6      12.7   \n363  10/29/2008  Canberra     12.5     19.9       0.0          8.4       5.3   \n364  10/30/2008  Canberra     12.5     26.9       0.0          5.0       7.1   \n365  10/31/2008  Canberra     12.3     30.2       0.0          6.0      12.6   \n\n    WindGustDir  WindGustSpeed WindDir9am      ...      Humidity3pm  \\\n361         NNW           76.0        SSE      ...               15   \n362           N           48.0        NNW      ...               22   \n363         ESE           43.0        ENE      ...               47   \n364          NW           46.0        SSW      ...               39   \n365          NW           78.0         NW      ...               13   \n\n     Pressure9am  Pressure3pm  Cloud9am  Cloud3pm  Temp9am  Temp3pm  \\\n361       1016.1       1010.8         1         3     20.4     30.0   \n362       1020.0       1016.9         0         1     17.2     28.2   \n363       1024.0       1022.8         3         2     14.5     18.3   \n364       1021.0       1016.2         6         7     15.8     25.9   \n365       1009.6       1009.2         1         1     23.8     28.6   \n\n     RainToday  RISK_MM  RainTomorrow  \n361         No      0.0            No  \n362         No      0.0            No  \n363         No      0.0            No  \n364         No      0.0            No  \n365         No      0.0            No  \n\n[5 rows x 24 columns]"
     ]
    },
    {
     "name": "stdout",
     "output_type": "stream",
     "text": [
      "\n          MinTemp     MaxTemp    Rainfall  Evaporation    Sunshine  \\\ncount  366.000000  366.000000  366.000000   366.000000  363.000000   \nmean     7.265574   20.550273    1.428415     4.521858    7.909366   \nstd      6.025800    6.690516    4.225800     2.669383    3.481517   \nmin     -5.300000    7.600000    0.000000     0.200000    0.000000   \n25%      2.300000   15.025000    0.000000     2.200000    5.950000   \n50%      7.450000   19.650000    0.000000     4.200000    8.600000   \n75%     12.500000   25.500000    0.200000     6.400000   10.500000   \nmax     20.900000   35.800000   39.800000    13.800000   13.600000   \n\n       WindGustSpeed  WindSpeed9am  WindSpeed3pm  Humidity9am  Humidity3pm  \\\ncount     364.000000    359.000000    366.000000   366.000000   366.000000   \nmean       39.840659      9.651811     17.986339    72.035519    44.519126   \nstd        13.059807      7.951929      8.856997    13.137058    16.850947   \nmin        13.000000      0.000000      0.000000    36.000000    13.000000   \n25%        31.000000      6.000000     11.000000    64.000000    32.250000   \n50%        39.000000      7.000000     17.000000    72.000000    43.000000   \n75%        46.000000     13.000000     24.000000    81.000000    55.000000   \nmax        98.000000     41.000000     52.000000    99.000000    96.000000   \n\n       Pressure9am  Pressure3pm    Cloud9am    Cloud3pm     Temp9am  \\\ncount   366.000000   366.000000  366.000000  366.000000  366.000000   \nmean   1019.709016  1016.810383    3.890710    4.024590   12.358470   \nstd       6.686212     6.469422    2.956131    2.666268    5.630832   \nmin     996.500000   996.800000    0.000000    0.000000    0.100000   \n25%    1015.350000  1012.800000    1.000000    1.000000    7.625000   \n50%    1020.150000  1017.400000    3.500000    4.000000   12.550000   \n75%    1024.475000  1021.475000    7.000000    7.000000   17.000000   \nmax    1035.700000  1033.200000    8.000000    8.000000   24.700000   \n\n          Temp3pm     RISK_MM  \ncount  366.000000  366.000000  \nmean    19.230874    1.428415  \nstd      6.640346    4.225800  \nmin      5.100000    0.000000  \n25%     14.150000    0.000000  \n50%     18.550000    0.000000  \n75%     24.000000    0.200000  \nmax     34.500000   39.800000  \ncolumn 2 := count    366.000000\nmean       7.265574\nstd        6.025800\nmin       -5.300000\n25%        2.300000\n50%        7.450000\n75%       12.500000\nmax       20.900000\nName: MinTemp, dtype: float64\n"
     ]
    }
   ],
   "source": [
    "import pandas as p\n",
    "df=p.read_csv(\"https://raw.githubusercontent.com/Shreyas3108/Weather/master/weather.csv\")\n",
    "print(\" First 5 rows of Dataframe\",df.head(5))\n",
    "print(\"First 10 rows of the Dataframe\",df.head(10))\n",
    "print(\"Last 5 rowa of the dataframe\",df.tail(5))\n",
    "print(df.describe())\n",
    "print( \"column 2 :=\",df[\"MinTemp\"].describe())\n",
    "\n"
   ]
  },
  {
   "cell_type": "code",
   "execution_count": 2,
   "metadata": {},
   "outputs": [],
   "source": []
  },
  {
   "cell_type": "code",
   "execution_count": 2,
   "metadata": {},
   "outputs": [],
   "source": []
  },
  {
   "cell_type": "code",
   "execution_count": 2,
   "metadata": {},
   "outputs": [],
   "source": []
  },
  {
   "cell_type": "code",
   "execution_count": null,
   "metadata": {},
   "outputs": [],
   "source": []
  }
 ],
 "metadata": {
  "kernelspec": {
   "display_name": "Python 3",
   "language": "python",
   "name": "python3"
  },
  "language_info": {
   "codemirror_mode": {
    "name": "ipython",
    "version": 3
   },
   "file_extension": ".py",
   "mimetype": "text/x-python",
   "name": "python",
   "nbconvert_exporter": "python",
   "pygments_lexer": "ipython3",
   "version": "3.6.5"
  }
 },
 "nbformat": 4,
 "nbformat_minor": 1
}
